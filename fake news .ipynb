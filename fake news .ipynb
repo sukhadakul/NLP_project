{
 "cells": [
  {
   "cell_type": "code",
   "execution_count": 1,
   "id": "a44a93b3",
   "metadata": {
    "ExecuteTime": {
     "end_time": "2023-07-08T07:45:00.386682Z",
     "start_time": "2023-07-08T07:44:54.337363Z"
    }
   },
   "outputs": [],
   "source": [
    "import pickle\n",
    "import streamlit as st\n",
    "import spacy\n",
    "from bs4 import BeautifulSoup\n",
    "import re\n",
    "import nltk\n",
    "import string\n",
    "from sklearn.feature_extraction.text import TfidfVectorizer "
   ]
  },
  {
   "cell_type": "code",
   "execution_count": 2,
   "id": "8b81c463",
   "metadata": {
    "ExecuteTime": {
     "end_time": "2023-07-08T07:45:04.070907Z",
     "start_time": "2023-07-08T07:45:04.063906Z"
    }
   },
   "outputs": [],
   "source": [
    "def lemmatize_words(text):\n",
    "        lemma = nltk.WordNetLemmatizer()\n",
    "        words = text.split()\n",
    "        words = [lemma.lemmatize(word,pos='v') for word in words]\n",
    "        return ' '.join(words)  "
   ]
  },
  {
   "cell_type": "code",
   "execution_count": 3,
   "id": "224d7c63",
   "metadata": {
    "ExecuteTime": {
     "end_time": "2023-07-08T07:45:14.446472Z",
     "start_time": "2023-07-08T07:45:14.430467Z"
    }
   },
   "outputs": [],
   "source": [
    "def remove_html(text):\n",
    "    soup = BeautifulSoup(text, \"html.parser\")\n",
    "    return soup.get_text()\n",
    "def remove_punctuations(text):\n",
    "    return re.sub('\\[[^]]*\\]', '', text)\n",
    "def remove_characters(text):\n",
    "    return re.sub(\"[^a-zA-Z]\",\" \",text) "
   ]
  },
  {
   "cell_type": "code",
   "execution_count": 4,
   "id": "75920b4e",
   "metadata": {
    "ExecuteTime": {
     "end_time": "2023-07-08T07:45:24.917758Z",
     "start_time": "2023-07-08T07:45:24.899751Z"
    }
   },
   "outputs": [],
   "source": [
    "def cleaning(text):\n",
    "    text = remove_html(text)\n",
    "    text = text.lower()\n",
    "    text = re.sub('\\[.*?\\]', '', text)\n",
    "    text = re.sub('[%s]' % re.escape(string.punctuation), '', text)\n",
    "    text = re.sub('\\w*\\d\\w*', '', text)\n",
    "    text = re.sub(\"[0-9\" \"]+\",\" \",text)\n",
    "    text = re.sub('[‘’“”…]', '', text)\n",
    "    text = lemmatize_words(text)  \n",
    "    return text\n",
    "\n",
    "clean = lambda x: cleaning(x) "
   ]
  },
  {
   "cell_type": "code",
   "execution_count": 5,
   "id": "85555cd3",
   "metadata": {
    "ExecuteTime": {
     "end_time": "2023-07-08T08:16:27.467510Z",
     "start_time": "2023-07-08T08:16:27.313186Z"
    }
   },
   "outputs": [],
   "source": [
    "tf_idf_converter=pickle.load(open('C:/Users/Shubhajinkya/tf_idf_converter.pkl','rb')) "
   ]
  },
  {
   "cell_type": "code",
   "execution_count": 6,
   "id": "3ae407da",
   "metadata": {
    "ExecuteTime": {
     "end_time": "2023-07-08T08:16:32.042369Z",
     "start_time": "2023-07-08T08:16:31.823464Z"
    }
   },
   "outputs": [],
   "source": [
    "model=pickle.load(open('C:/Users/Shubhajinkya/classifier.pkl','rb'))"
   ]
  },
  {
   "cell_type": "code",
   "execution_count": 7,
   "id": "869c5ea3",
   "metadata": {
    "ExecuteTime": {
     "end_time": "2023-07-08T08:16:35.019806Z",
     "start_time": "2023-07-08T08:16:35.013796Z"
    }
   },
   "outputs": [],
   "source": [
    "def news_prediction(sample):\n",
    "    Result=model.predict(tf_idf_converter.transform(sample))\n",
    "    if (Result[0]==0):\n",
    "        return'The news is FAKE'\n",
    "    else:\n",
    "        return 'The news is TRUE'\n",
    "     "
   ]
  },
  {
   "cell_type": "code",
   "execution_count": 9,
   "id": "19a9ed12",
   "metadata": {
    "ExecuteTime": {
     "end_time": "2023-07-08T08:19:22.670117Z",
     "start_time": "2023-07-08T08:19:22.653442Z"
    }
   },
   "outputs": [],
   "source": [
    "def main():\n",
    "    st.title('FAKE NEWS AND TRUE NEWS DETECTION')\n",
    "    st.subheader('LETS INVESTIGATE AND GET RESULT')\n",
    "    \n",
    "    if st.checkbox(\"Show text after cleaning \"):\n",
    "        st.subheader(\"cleaned text\")\n",
    "        text=st.text_area(\"Enter your text\",\"Type Here\")\n",
    "        if st.button(\"Analyze\"):\n",
    "            nlp_result=cleaning(text)\n",
    "            st.success(nlp_result)\n",
    "    if st.checkbox(\"Converted text to TFIDF VEC \"):\n",
    "        st.subheader(\"TFIDF VECTORIZER\")\n",
    "        text=st.text_area(\"Enter your text\",\"Type Here\")\n",
    "        if st.button(\"Convert\"):\n",
    "            sample=[text]\n",
    "            TFIDF_result=tf_idf_converter.transform(sample)\n",
    "            st.success(TFIDF_result)\n",
    "    if st.checkbox(\"Evaluate the NEWS \"):\n",
    "        text=st.text_area(\"Enter Any News Headline\",\"Type Here\")\n",
    "        if st.button(\"Check\"):\n",
    "            if len(text) < 1:\n",
    "                st.write(\" \")\n",
    "            else:\n",
    "                nlp_result=cleaning(text)\n",
    "                sample=[nlp_result]\n",
    "                Result=news_prediction(sample)\n",
    "                st.success(Result)\n",
    "        \n",
    "     \n",
    "    \n",
    "    \n",
    "    \n",
    "if __name__=='__main__':\n",
    "    main() "
   ]
  },
  {
   "cell_type": "code",
   "execution_count": null,
   "id": "418c090b",
   "metadata": {},
   "outputs": [],
   "source": []
  },
  {
   "cell_type": "code",
   "execution_count": null,
   "id": "0202eab5",
   "metadata": {},
   "outputs": [],
   "source": []
  },
  {
   "cell_type": "code",
   "execution_count": null,
   "id": "f7334315",
   "metadata": {},
   "outputs": [],
   "source": []
  }
 ],
 "metadata": {
  "kernelspec": {
   "display_name": "Python 3 (ipykernel)",
   "language": "python",
   "name": "python3"
  },
  "language_info": {
   "codemirror_mode": {
    "name": "ipython",
    "version": 3
   },
   "file_extension": ".py",
   "mimetype": "text/x-python",
   "name": "python",
   "nbconvert_exporter": "python",
   "pygments_lexer": "ipython3",
   "version": "3.10.9"
  }
 },
 "nbformat": 4,
 "nbformat_minor": 5
}
